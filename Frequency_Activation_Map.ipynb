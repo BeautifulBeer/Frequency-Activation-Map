{
  "nbformat": 4,
  "nbformat_minor": 0,
  "metadata": {
    "colab": {
      "name": "Frequency-Activation-Map.ipynb",
      "provenance": [],
      "collapsed_sections": []
    },
    "kernelspec": {
      "name": "python3",
      "display_name": "Python 3"
    },
    "language_info": {
      "name": "python"
    },
    "accelerator": "GPU",
    "widgets": {
      "application/vnd.jupyter.widget-state+json": {
        "d6decb15db574da9b8a66e75641e4cf3": {
          "model_module": "@jupyter-widgets/controls",
          "model_name": "HBoxModel",
          "model_module_version": "1.5.0",
          "state": {
            "_view_name": "HBoxView",
            "_dom_classes": [],
            "_model_name": "HBoxModel",
            "_view_module": "@jupyter-widgets/controls",
            "_model_module_version": "1.5.0",
            "_view_count": null,
            "_view_module_version": "1.5.0",
            "box_style": "",
            "layout": "IPY_MODEL_2783aa5bfb344facb6614ddca2254a86",
            "_model_module": "@jupyter-widgets/controls",
            "children": [
              "IPY_MODEL_8137052756d44ae4882c024591799215",
              "IPY_MODEL_0f866c3162734d97ae82862a70e32552",
              "IPY_MODEL_7281ec452c6442e28f871a5702b9c99e"
            ]
          }
        },
        "2783aa5bfb344facb6614ddca2254a86": {
          "model_module": "@jupyter-widgets/base",
          "model_name": "LayoutModel",
          "model_module_version": "1.2.0",
          "state": {
            "_view_name": "LayoutView",
            "grid_template_rows": null,
            "right": null,
            "justify_content": null,
            "_view_module": "@jupyter-widgets/base",
            "overflow": null,
            "_model_module_version": "1.2.0",
            "_view_count": null,
            "flex_flow": null,
            "width": null,
            "min_width": null,
            "border": null,
            "align_items": null,
            "bottom": null,
            "_model_module": "@jupyter-widgets/base",
            "top": null,
            "grid_column": null,
            "overflow_y": null,
            "overflow_x": null,
            "grid_auto_flow": null,
            "grid_area": null,
            "grid_template_columns": null,
            "flex": null,
            "_model_name": "LayoutModel",
            "justify_items": null,
            "grid_row": null,
            "max_height": null,
            "align_content": null,
            "visibility": null,
            "align_self": null,
            "height": null,
            "min_height": null,
            "padding": null,
            "grid_auto_rows": null,
            "grid_gap": null,
            "max_width": null,
            "order": null,
            "_view_module_version": "1.2.0",
            "grid_template_areas": null,
            "object_position": null,
            "object_fit": null,
            "grid_auto_columns": null,
            "margin": null,
            "display": null,
            "left": null
          }
        },
        "8137052756d44ae4882c024591799215": {
          "model_module": "@jupyter-widgets/controls",
          "model_name": "HTMLModel",
          "model_module_version": "1.5.0",
          "state": {
            "_view_name": "HTMLView",
            "style": "IPY_MODEL_82eddb9eea604b9b920146c57709e257",
            "_dom_classes": [],
            "description": "",
            "_model_name": "HTMLModel",
            "placeholder": "​",
            "_view_module": "@jupyter-widgets/controls",
            "_model_module_version": "1.5.0",
            "value": "100%",
            "_view_count": null,
            "_view_module_version": "1.5.0",
            "description_tooltip": null,
            "_model_module": "@jupyter-widgets/controls",
            "layout": "IPY_MODEL_c507db6e249e4e2da49720e865319364"
          }
        },
        "0f866c3162734d97ae82862a70e32552": {
          "model_module": "@jupyter-widgets/controls",
          "model_name": "FloatProgressModel",
          "model_module_version": "1.5.0",
          "state": {
            "_view_name": "ProgressView",
            "style": "IPY_MODEL_6403168675e44dd2a080d2d991bbf2ac",
            "_dom_classes": [],
            "description": "",
            "_model_name": "FloatProgressModel",
            "bar_style": "success",
            "max": 54,
            "_view_module": "@jupyter-widgets/controls",
            "_model_module_version": "1.5.0",
            "value": 54,
            "_view_count": null,
            "_view_module_version": "1.5.0",
            "orientation": "horizontal",
            "min": 0,
            "description_tooltip": null,
            "_model_module": "@jupyter-widgets/controls",
            "layout": "IPY_MODEL_9f068b6bd2ff49488395ab0c248afb3d"
          }
        },
        "7281ec452c6442e28f871a5702b9c99e": {
          "model_module": "@jupyter-widgets/controls",
          "model_name": "HTMLModel",
          "model_module_version": "1.5.0",
          "state": {
            "_view_name": "HTMLView",
            "style": "IPY_MODEL_fc4cf1f1f35e44f7b2d1e970c442e200",
            "_dom_classes": [],
            "description": "",
            "_model_name": "HTMLModel",
            "placeholder": "​",
            "_view_module": "@jupyter-widgets/controls",
            "_model_module_version": "1.5.0",
            "value": " 54/54 [00:31&lt;00:00,  1.98it/s]",
            "_view_count": null,
            "_view_module_version": "1.5.0",
            "description_tooltip": null,
            "_model_module": "@jupyter-widgets/controls",
            "layout": "IPY_MODEL_5df5dd70b5ba491584f0c1e8ccffe38c"
          }
        },
        "82eddb9eea604b9b920146c57709e257": {
          "model_module": "@jupyter-widgets/controls",
          "model_name": "DescriptionStyleModel",
          "model_module_version": "1.5.0",
          "state": {
            "_view_name": "StyleView",
            "_model_name": "DescriptionStyleModel",
            "description_width": "",
            "_view_module": "@jupyter-widgets/base",
            "_model_module_version": "1.5.0",
            "_view_count": null,
            "_view_module_version": "1.2.0",
            "_model_module": "@jupyter-widgets/controls"
          }
        },
        "c507db6e249e4e2da49720e865319364": {
          "model_module": "@jupyter-widgets/base",
          "model_name": "LayoutModel",
          "model_module_version": "1.2.0",
          "state": {
            "_view_name": "LayoutView",
            "grid_template_rows": null,
            "right": null,
            "justify_content": null,
            "_view_module": "@jupyter-widgets/base",
            "overflow": null,
            "_model_module_version": "1.2.0",
            "_view_count": null,
            "flex_flow": null,
            "width": null,
            "min_width": null,
            "border": null,
            "align_items": null,
            "bottom": null,
            "_model_module": "@jupyter-widgets/base",
            "top": null,
            "grid_column": null,
            "overflow_y": null,
            "overflow_x": null,
            "grid_auto_flow": null,
            "grid_area": null,
            "grid_template_columns": null,
            "flex": null,
            "_model_name": "LayoutModel",
            "justify_items": null,
            "grid_row": null,
            "max_height": null,
            "align_content": null,
            "visibility": null,
            "align_self": null,
            "height": null,
            "min_height": null,
            "padding": null,
            "grid_auto_rows": null,
            "grid_gap": null,
            "max_width": null,
            "order": null,
            "_view_module_version": "1.2.0",
            "grid_template_areas": null,
            "object_position": null,
            "object_fit": null,
            "grid_auto_columns": null,
            "margin": null,
            "display": null,
            "left": null
          }
        },
        "6403168675e44dd2a080d2d991bbf2ac": {
          "model_module": "@jupyter-widgets/controls",
          "model_name": "ProgressStyleModel",
          "model_module_version": "1.5.0",
          "state": {
            "_view_name": "StyleView",
            "_model_name": "ProgressStyleModel",
            "description_width": "",
            "_view_module": "@jupyter-widgets/base",
            "_model_module_version": "1.5.0",
            "_view_count": null,
            "_view_module_version": "1.2.0",
            "bar_color": null,
            "_model_module": "@jupyter-widgets/controls"
          }
        },
        "9f068b6bd2ff49488395ab0c248afb3d": {
          "model_module": "@jupyter-widgets/base",
          "model_name": "LayoutModel",
          "model_module_version": "1.2.0",
          "state": {
            "_view_name": "LayoutView",
            "grid_template_rows": null,
            "right": null,
            "justify_content": null,
            "_view_module": "@jupyter-widgets/base",
            "overflow": null,
            "_model_module_version": "1.2.0",
            "_view_count": null,
            "flex_flow": null,
            "width": null,
            "min_width": null,
            "border": null,
            "align_items": null,
            "bottom": null,
            "_model_module": "@jupyter-widgets/base",
            "top": null,
            "grid_column": null,
            "overflow_y": null,
            "overflow_x": null,
            "grid_auto_flow": null,
            "grid_area": null,
            "grid_template_columns": null,
            "flex": null,
            "_model_name": "LayoutModel",
            "justify_items": null,
            "grid_row": null,
            "max_height": null,
            "align_content": null,
            "visibility": null,
            "align_self": null,
            "height": null,
            "min_height": null,
            "padding": null,
            "grid_auto_rows": null,
            "grid_gap": null,
            "max_width": null,
            "order": null,
            "_view_module_version": "1.2.0",
            "grid_template_areas": null,
            "object_position": null,
            "object_fit": null,
            "grid_auto_columns": null,
            "margin": null,
            "display": null,
            "left": null
          }
        },
        "fc4cf1f1f35e44f7b2d1e970c442e200": {
          "model_module": "@jupyter-widgets/controls",
          "model_name": "DescriptionStyleModel",
          "model_module_version": "1.5.0",
          "state": {
            "_view_name": "StyleView",
            "_model_name": "DescriptionStyleModel",
            "description_width": "",
            "_view_module": "@jupyter-widgets/base",
            "_model_module_version": "1.5.0",
            "_view_count": null,
            "_view_module_version": "1.2.0",
            "_model_module": "@jupyter-widgets/controls"
          }
        },
        "5df5dd70b5ba491584f0c1e8ccffe38c": {
          "model_module": "@jupyter-widgets/base",
          "model_name": "LayoutModel",
          "model_module_version": "1.2.0",
          "state": {
            "_view_name": "LayoutView",
            "grid_template_rows": null,
            "right": null,
            "justify_content": null,
            "_view_module": "@jupyter-widgets/base",
            "overflow": null,
            "_model_module_version": "1.2.0",
            "_view_count": null,
            "flex_flow": null,
            "width": null,
            "min_width": null,
            "border": null,
            "align_items": null,
            "bottom": null,
            "_model_module": "@jupyter-widgets/base",
            "top": null,
            "grid_column": null,
            "overflow_y": null,
            "overflow_x": null,
            "grid_auto_flow": null,
            "grid_area": null,
            "grid_template_columns": null,
            "flex": null,
            "_model_name": "LayoutModel",
            "justify_items": null,
            "grid_row": null,
            "max_height": null,
            "align_content": null,
            "visibility": null,
            "align_self": null,
            "height": null,
            "min_height": null,
            "padding": null,
            "grid_auto_rows": null,
            "grid_gap": null,
            "max_width": null,
            "order": null,
            "_view_module_version": "1.2.0",
            "grid_template_areas": null,
            "object_position": null,
            "object_fit": null,
            "grid_auto_columns": null,
            "margin": null,
            "display": null,
            "left": null
          }
        }
      }
    }
  },
  "cells": [
    {
      "cell_type": "code",
      "metadata": {
        "id": "GBYG_LwJMYfo",
        "colab": {
          "base_uri": "https://localhost:8080/"
        },
        "outputId": "20495471-7afb-4109-db20-b41da407a397"
      },
      "source": [
        "!pip3 install torch\n",
        "!pip3 install torchvision\n",
        "!pip3 install pytorch-model-summary"
      ],
      "execution_count": 1,
      "outputs": [
        {
          "output_type": "stream",
          "name": "stdout",
          "text": [
            "Requirement already satisfied: torch in /usr/local/lib/python3.7/dist-packages (1.10.0+cu111)\n",
            "Requirement already satisfied: typing-extensions in /usr/local/lib/python3.7/dist-packages (from torch) (3.10.0.2)\n",
            "Requirement already satisfied: torchvision in /usr/local/lib/python3.7/dist-packages (0.11.1+cu111)\n",
            "Requirement already satisfied: torch==1.10.0 in /usr/local/lib/python3.7/dist-packages (from torchvision) (1.10.0+cu111)\n",
            "Requirement already satisfied: pillow!=8.3.0,>=5.3.0 in /usr/local/lib/python3.7/dist-packages (from torchvision) (7.1.2)\n",
            "Requirement already satisfied: numpy in /usr/local/lib/python3.7/dist-packages (from torchvision) (1.19.5)\n",
            "Requirement already satisfied: typing-extensions in /usr/local/lib/python3.7/dist-packages (from torch==1.10.0->torchvision) (3.10.0.2)\n",
            "Collecting pytorch-model-summary\n",
            "  Downloading pytorch_model_summary-0.1.2-py3-none-any.whl (9.3 kB)\n",
            "Requirement already satisfied: numpy in /usr/local/lib/python3.7/dist-packages (from pytorch-model-summary) (1.19.5)\n",
            "Requirement already satisfied: tqdm in /usr/local/lib/python3.7/dist-packages (from pytorch-model-summary) (4.62.3)\n",
            "Requirement already satisfied: torch in /usr/local/lib/python3.7/dist-packages (from pytorch-model-summary) (1.10.0+cu111)\n",
            "Requirement already satisfied: typing-extensions in /usr/local/lib/python3.7/dist-packages (from torch->pytorch-model-summary) (3.10.0.2)\n",
            "Installing collected packages: pytorch-model-summary\n",
            "Successfully installed pytorch-model-summary-0.1.2\n"
          ]
        }
      ]
    },
    {
      "cell_type": "code",
      "metadata": {
        "id": "KHU03o1Txvn3"
      },
      "source": [
        "import torch\n",
        "import torch.nn as nn\n",
        "import pandas as pd\n",
        "import numpy as np\n",
        "import seaborn as sns\n",
        "from pathlib import Path\n",
        "import os\n",
        "import pytorch_model_summary\n",
        "from torch.utils.data import Dataset, DataLoader\n",
        "import torchvision as tv\n",
        "import torch.nn.functional as F\n",
        "from datetime import datetime\n",
        "from tqdm.notebook import trange, tqdm\n",
        "import matplotlib.pyplot as plt"
      ],
      "execution_count": 2,
      "outputs": []
    },
    {
      "cell_type": "code",
      "metadata": {
        "id": "BaoOwTkTyE4Z",
        "colab": {
          "base_uri": "https://localhost:8080/"
        },
        "outputId": "337ac516-5a76-4291-ef7c-f7af511f6b85"
      },
      "source": [
        "if 'google.colab' in str(get_ipython()):\n",
        "    print('Running on Colab')\n",
        "    from google.colab import drive\n",
        "\n",
        "    drive.mount('/content/gdrive')\n",
        "    data_dir = Path('/content/gdrive/My Drive', 'dataset', 'fault diagnosis')\n",
        "    checkpoint_dir = Path('/content/gdrive/My Drive', 'checkpoints', 'fam')\n",
        "else:\n",
        "    data_dir = Path('.', 'dataset')\n",
        "    checkpoint_dir = Path('.', 'checkpoints', 'fam')\n",
        "\n",
        "data_dir.mkdir(exist_ok=True, parents=True)\n",
        "checkpoint_dir.mkdir(exist_ok=True, parents=True)\n",
        "\n",
        "file_name = {}\n",
        "files = os.listdir(data_dir)\n",
        "for file in files:\n",
        "    if file.find('Train') != -1:\n",
        "        file_name['Train'] = file\n",
        "    elif file.find('Test') != -1:\n",
        "        file_name['Test'] = file"
      ],
      "execution_count": 3,
      "outputs": [
        {
          "output_type": "stream",
          "name": "stdout",
          "text": [
            "Running on Colab\n",
            "Mounted at /content/gdrive\n"
          ]
        }
      ]
    },
    {
      "cell_type": "code",
      "metadata": {
        "id": "jRET0TVmtnXM"
      },
      "source": [
        "def conv_block(inp, oup, kernel, stride, padding, bias, num):\n",
        "    layer_norm = nn.LayerNorm(2048)\n",
        "    for name, param in layer_norm.named_parameters():\n",
        "      if name == 'bias':\n",
        "          param.requires_grad = False\n",
        "\n",
        "    seq = nn.Sequential()\n",
        "    seq.add_module(f'Conv_{num}', nn.Conv1d(inp, oup, kernel, stride, 'same', bias=bias))\n",
        "    seq.add_module(f'LayerNorm_{num}',layer_norm)\n",
        "    seq.add_module(f'Tanh_{num}', nn.Tanh())\n",
        "    return seq\n",
        "\n",
        "# Call this function after optimizer step, add constraint on weight norm\n",
        "def max_norm_(model, min_val=0.8, max_val=1.2, eps=1e-8):\n",
        "    for name, param in model.named_parameters():\n",
        "        if 'bias' not in name and 'Conv' in name:\n",
        "            with torch.no_grad():\n",
        "                norm = param.norm('fro', dim=[3, 1], keepdim=True)**2\n",
        "                desired = torch.clamp(norm, min=min_val, max=max_val)\n",
        "                param.copy_(param * torch.sqrt(desired / (eps + norm)))\n",
        "\n",
        "def global_power_pooling(x):\n",
        "    return torch.pow(x, 2).mean(3).mean(2)\n",
        "\n",
        "# Network for FAM\n",
        "class ConvolutionFAM(nn.Module):\n",
        "    def __init__(self, in_channel, kernel_size, bias, stride, channels, n_class=12):\n",
        "        super(ConvolutionFAM, self).__init__()\n",
        "        block = conv_block\n",
        "        self.features = []\n",
        "        for idx, out_channel in enumerate(channels):\n",
        "            self.features.append(block(in_channel, out_channel, kernel_size, stride[idx], 'same', bias, idx))\n",
        "            in_channel = out_channel\n",
        "        self.features = nn.Sequential(*self.features)\n",
        "        self.classifier = nn.Linear(channels[-1], n_class)\n",
        "\n",
        "    def forward(self, x):\n",
        "        x_freq = self.features(x)\n",
        "        x_out = global_power_pooling(x_freq)\n",
        "        x_out = self.classifier(x_out)\n",
        "        return x_freq, x_out\n",
        "\n",
        "class BearingDataset(Dataset):\n",
        "    def __init__(self, file_path, window_size):\n",
        "        self.dataset = pd.read_csv(file_path, header=None).reset_index(drop=True)\n",
        "\n",
        "    def __len__(self):\n",
        "        return len(self.dataset)\n",
        "\n",
        "    def __getitem__(self, idx):\n",
        "        x = self.dataset.iloc[idx, 0:window_size]\n",
        "        y = self.dataset.iloc[idx, window_size]\n",
        "        return torch.reshape(torch.FloatTensor(x.to_numpy()), (1, 1, window_size)), torch.tensor(y)\n",
        "\n",
        "def training(model, dataloader, optimizer):\n",
        "    epoch_loss = 0.0\n",
        "    epoch_accuracy = 0.0\n",
        "    dataset_len = len(dataloader.dataset)\n",
        "    model.train()\n",
        "\n",
        "    for batch in tqdm(dataloader):\n",
        "        x, y = batch\n",
        "        if torch.cuda.is_available():\n",
        "            x, y = x.cuda(), y.cuda()\n",
        "        \n",
        "        optimizer.zero_grad()\n",
        "        _, pred = model(x)\n",
        "        softmax_pred = F.softmax(pred, dim=1)\n",
        "        loss = F.cross_entropy(pred, y)\n",
        "\n",
        "        epoch_loss += loss.detach()\n",
        "        epoch_accuracy += torch.sum(torch.argmax(softmax_pred, dim=1) == y, dtype=torch.int64).detach()\n",
        "\n",
        "        loss.backward()\n",
        "        optimizer.step()\n",
        "        max_norm_(model)\n",
        "    \n",
        "    epoch_loss /= dataset_len\n",
        "    epoch_accuracy = epoch_accuracy / dataset_len * 100\n",
        "\n",
        "    return epoch_loss, epoch_accuracy\n",
        "\n",
        "# calculate FAM\n",
        "def freq_activation_map(model, input, width, channels, target_label):\n",
        "    '''\n",
        "        Param:\n",
        "            model : Neural Network Object\n",
        "            input : timeseries data\n",
        "            width : length of power_spectrum(input)\n",
        "            channels : # last channel of the model\n",
        "    '''\n",
        "    fam = torch.zeros(input.shape[0], 1, width)\n",
        "    if torch.cuda.is_available():\n",
        "        fam = fam.cuda()    \n",
        "\n",
        "    with torch.no_grad():\n",
        "        freq, labels = model(torch.reshape(input, (-1, 1, 1, input.shape[-1])))\n",
        "        labels = torch.argmax(F.softmax(labels, dim=1), dim=1)\n",
        "        labels = torch.where(labels == target_label, 1., 0.)\n",
        "        labels = torch.unsqueeze(torch.reshape(labels, [-1, 1]).repeat(1, width), 1)\n",
        "        for c in range(channels):\n",
        "            sp = freq[:, c, :, :]\n",
        "            if torch.cuda.is_available():\n",
        "                sp = sp.cuda()\n",
        "            \n",
        "            sp = power_spectrum(sp)\n",
        "            sp = sp * labels            \n",
        "\n",
        "            if model.classifier.weight[target_label, c] > 0:\n",
        "                fam += model.classifier.weight[target_label, c] * sp\n",
        "      \n",
        "    return torch.squeeze(torch.sum(fam, dim=0)), torch.sum(labels[:, 0, 0], dim=0)\n",
        "\n",
        "def normalize_freq(fam):\n",
        "    max_fam, _ = torch.max(fam, dim=-1, keepdim=True)\n",
        "    return torch.div(fam, max_fam)\n",
        "\n",
        "# This is from P. Welch's method to compute power spectrum, check [3]\n",
        "def power_spectrum(t_freq):\n",
        "    result = torch.abs(torch.fft.rfft(t_freq))**2\n",
        "    return result / torch.mean(result, dim=2, keepdim=True)"
      ],
      "execution_count": 42,
      "outputs": []
    },
    {
      "cell_type": "code",
      "metadata": {
        "id": "C-28khWyY3DV"
      },
      "source": [
        "lr = 1e-3\n",
        "batch_size = 256\n",
        "epochs = 100\n",
        "sampling_rate = 12000\n",
        "labels = ['Normal', 'FAULT7_INNER', 'FAULT14_INNER', 'FAULT21_INNER', 'FAULT28_INNER',\n",
        "    'FAULT7_BALL', 'FAULT14_BALL', 'FAULT21_BALL', 'FAULT28_BALL',\n",
        "    'FAULT7_OUTER', 'FAULT14_OUTER', 'FAULT21_OUTER']\n",
        "\n",
        "window_size = 2048\n",
        "n_class = 12\n",
        "bias = False\n",
        "kernel_size = (1, 7)\n",
        "in_channel = 1\n",
        "stride = [1, 1, 1, 1, 1, 1, 1, 1, 1, 1]\n",
        "channels = [4, 4, 8, 8, 16, 16, 16, 32, 32, 32]\n",
        "\n",
        "\n",
        "model = ConvolutionFAM(in_channel, kernel_size, bias, stride, channels, n_class)\n",
        "\n",
        "if torch.cuda.is_available():\n",
        "    model = model.cuda()\n",
        "\n",
        "optimizer = torch.optim.Adam(model.parameters(), lr=lr)"
      ],
      "execution_count": 43,
      "outputs": []
    },
    {
      "cell_type": "code",
      "metadata": {
        "id": "90RfkNkqZjjL"
      },
      "source": [
        "train_data = BearingDataset(Path(data_dir, 'bearing_dataset.csv'), window_size)\n",
        "train_loader = DataLoader(train_data, batch_size=batch_size, shuffle=True, pin_memory=True)"
      ],
      "execution_count": 45,
      "outputs": []
    },
    {
      "cell_type": "code",
      "metadata": {
        "colab": {
          "base_uri": "https://localhost:8080/"
        },
        "id": "3hT1V9F9oaPn",
        "outputId": "8634c289-0c3f-4930-ba59-38f28a2847c3"
      },
      "source": [
        "# model.load_state_dict(torch.load(Path(checkpoint_dir, 'CNN_FAM_21_12_30')))\n",
        "\n",
        "for epoch in trange(epochs):\n",
        "    loss, accuracy = training(model, train_loader, optimizer)\n",
        "    print(f'Epoch {epoch+1} :: loss : {loss:.8f} / accuracy : {accuracy:.8f}%')\n",
        "\n",
        "torch.save(model.state_dict(), Path(checkpoint_dir, 'CNN_FAM_21_12_30'))"
      ],
      "execution_count": 46,
      "outputs": [
        {
          "output_type": "execute_result",
          "data": {
            "text/plain": [
              "<All keys matched successfully>"
            ]
          },
          "metadata": {},
          "execution_count": 46
        }
      ]
    },
    {
      "cell_type": "code",
      "metadata": {
        "colab": {
          "base_uri": "https://localhost:8080/"
        },
        "id": "d4WVSZvfTnnj",
        "outputId": "437e3125-3219-436e-d8c7-f1973b35bf87"
      },
      "source": [
        "dummy_input = torch.zeros(batch_size, in_channel, 1, window_size)\n",
        "if torch.cuda.is_available():\n",
        "    dummy_input = dummy_input.cuda()\n",
        "\n",
        "print(pytorch_model_summary.summary(model, dummy_input))"
      ],
      "execution_count": 47,
      "outputs": [
        {
          "output_type": "stream",
          "name": "stdout",
          "text": [
            "--------------------------------------------------------------------------\n",
            "      Layer (type)           Output Shape         Param #     Tr. Param #\n",
            "==========================================================================\n",
            "          Conv1d-1      [256, 4, 1, 2048]              28              28\n",
            "       LayerNorm-2      [256, 4, 1, 2048]           4,096           2,048\n",
            "            Tanh-3      [256, 4, 1, 2048]               0               0\n",
            "          Conv1d-4      [256, 4, 1, 2048]             112             112\n",
            "       LayerNorm-5      [256, 4, 1, 2048]           4,096           2,048\n",
            "            Tanh-6      [256, 4, 1, 2048]               0               0\n",
            "          Conv1d-7      [256, 8, 1, 2048]             224             224\n",
            "       LayerNorm-8      [256, 8, 1, 2048]           4,096           2,048\n",
            "            Tanh-9      [256, 8, 1, 2048]               0               0\n",
            "         Conv1d-10      [256, 8, 1, 2048]             448             448\n",
            "      LayerNorm-11      [256, 8, 1, 2048]           4,096           2,048\n",
            "           Tanh-12      [256, 8, 1, 2048]               0               0\n",
            "         Conv1d-13     [256, 16, 1, 2048]             896             896\n",
            "      LayerNorm-14     [256, 16, 1, 2048]           4,096           2,048\n",
            "           Tanh-15     [256, 16, 1, 2048]               0               0\n",
            "         Conv1d-16     [256, 16, 1, 2048]           1,792           1,792\n",
            "      LayerNorm-17     [256, 16, 1, 2048]           4,096           2,048\n",
            "           Tanh-18     [256, 16, 1, 2048]               0               0\n",
            "         Conv1d-19     [256, 16, 1, 2048]           1,792           1,792\n",
            "      LayerNorm-20     [256, 16, 1, 2048]           4,096           2,048\n",
            "           Tanh-21     [256, 16, 1, 2048]               0               0\n",
            "         Conv1d-22     [256, 32, 1, 2048]           3,584           3,584\n",
            "      LayerNorm-23     [256, 32, 1, 2048]           4,096           2,048\n",
            "           Tanh-24     [256, 32, 1, 2048]               0               0\n",
            "         Conv1d-25     [256, 32, 1, 2048]           7,168           7,168\n",
            "      LayerNorm-26     [256, 32, 1, 2048]           4,096           2,048\n",
            "           Tanh-27     [256, 32, 1, 2048]               0               0\n",
            "         Conv1d-28     [256, 32, 1, 2048]           7,168           7,168\n",
            "      LayerNorm-29     [256, 32, 1, 2048]           4,096           2,048\n",
            "           Tanh-30     [256, 32, 1, 2048]               0               0\n",
            "         Linear-31              [256, 12]             396             396\n",
            "==========================================================================\n",
            "Total params: 64,568\n",
            "Trainable params: 44,088\n",
            "Non-trainable params: 20,480\n",
            "--------------------------------------------------------------------------\n"
          ]
        }
      ]
    },
    {
      "cell_type": "code",
      "metadata": {
        "colab": {
          "base_uri": "https://localhost:8080/",
          "height": 49,
          "referenced_widgets": [
            "d6decb15db574da9b8a66e75641e4cf3",
            "2783aa5bfb344facb6614ddca2254a86",
            "8137052756d44ae4882c024591799215",
            "0f866c3162734d97ae82862a70e32552",
            "7281ec452c6442e28f871a5702b9c99e",
            "82eddb9eea604b9b920146c57709e257",
            "c507db6e249e4e2da49720e865319364",
            "6403168675e44dd2a080d2d991bbf2ac",
            "9f068b6bd2ff49488395ab0c248afb3d",
            "fc4cf1f1f35e44f7b2d1e970c442e200",
            "5df5dd70b5ba491584f0c1e8ccffe38c"
          ]
        },
        "id": "pfPjoxucwCmJ",
        "outputId": "72cedf47-35b6-478b-dee1-03942ad2be94"
      },
      "source": [
        "freq_intervals = np.fft.rfftfreq(window_size, d=1/sampling_rate)\n",
        "total_fam = torch.zeros(n_class, len(freq_intervals))\n",
        "total_len = torch.zeros(n_class, 1)\n",
        "if torch.cuda.is_available():\n",
        "    total_fam = total_fam.cuda()\n",
        "    total_len = total_len.cuda()\n",
        "\n",
        "for batch in tqdm(train_loader):\n",
        "    x, y = batch\n",
        "    if torch.cuda.is_available():\n",
        "        x = x.cuda()    \n",
        "    for c in range(n_class):\n",
        "        tmp_fam, cnt = freq_activation_map(model, x, len(freq_intervals), channels[-1], c)\n",
        "        total_fam[c, :] += tmp_fam\n",
        "        total_len[c] += cnt\n",
        "\n",
        "total_fam /= total_len"
      ],
      "execution_count": 48,
      "outputs": [
        {
          "output_type": "display_data",
          "data": {
            "application/vnd.jupyter.widget-view+json": {
              "model_id": "d6decb15db574da9b8a66e75641e4cf3",
              "version_minor": 0,
              "version_major": 2
            },
            "text/plain": [
              "  0%|          | 0/54 [00:00<?, ?it/s]"
            ]
          },
          "metadata": {}
        }
      ]
    },
    {
      "cell_type": "code",
      "source": [
        "rtotal_fam = normalize_freq(total_fam).cpu().detach()\n",
        "columns_ = freq_intervals\n",
        "plt.plot(columns_, rtotal_fam[0, :])"
      ],
      "metadata": {
        "colab": {
          "base_uri": "https://localhost:8080/",
          "height": 283
        },
        "id": "_02VqD_9lLau",
        "outputId": "647df7c9-9789-4e31-e801-31d9de1454c5"
      },
      "execution_count": 49,
      "outputs": [
        {
          "output_type": "execute_result",
          "data": {
            "text/plain": [
              "[<matplotlib.lines.Line2D at 0x7f8fc3499f10>]"
            ]
          },
          "metadata": {},
          "execution_count": 49
        },
        {
          "output_type": "display_data",
          "data": {
            "image/png": "[encoded data removed]",
            "text/plain": [
              "<Figure size 432x288 with 1 Axes>"
            ]
          },
          "metadata": {
            "needs_background": "light"
          }
        }
      ]
    },
    {
      "cell_type": "code",
      "metadata": {
        "id": "EXL1ZcHehaZM",
        "colab": {
          "base_uri": "https://localhost:8080/",
          "height": 283
        },
        "outputId": "4b4ec9e8-fc08-402f-d7f7-828bd54ea782"
      },
      "source": [
        "plt.plot(columns_, rtotal_fam[5, :])"
      ],
      "execution_count": 50,
      "outputs": [
        {
          "output_type": "execute_result",
          "data": {
            "text/plain": [
              "[<matplotlib.lines.Line2D at 0x7f8fc391a090>]"
            ]
          },
          "metadata": {},
          "execution_count": 50
        },
        {
          "output_type": "display_data",
          "data": {
            "image/png": "[encoded data removed]",
            "text/plain": [
              "<Figure size 432x288 with 1 Axes>"
            ]
          },
          "metadata": {
            "needs_background": "light"
          }
        }
      ]
    },
    {
      "cell_type": "code",
      "metadata": {
        "id": "MBggnS4ZahM-",
        "colab": {
          "base_uri": "https://localhost:8080/",
          "height": 325
        },
        "outputId": "0492035f-061f-4550-8740-c79faf0a2919"
      },
      "source": [
        "result = pd.DataFrame(rtotal_fam.numpy(),\n",
        "                      index = ['Normal', 'FAULT7_INNER', 'FAULT14_INNER', 'FAULT21_INNER', 'FAULT28_INNER',\n",
        "    'FAULT7_BALL', 'FAULT14_BALL', 'FAULT21_BALL', 'FAULT28_BALL',\n",
        "    'FAULT7_OUTER', 'FAULT14_OUTER', 'FAULT21_OUTER'],\n",
        "                      columns = columns_,\n",
        "                      )\n",
        "\n",
        "new_index = ['FAULT21_OUTER', 'FAULT14_OUTER', 'FAULT7_OUTER', 'FAULT28_INNER',\n",
        "             'FAULT21_INNER', 'FAULT14_INNER', 'FAULT7_INNER', 'FAULT28_BALL', \n",
        "             'FAULT21_BALL', 'FAULT14_BALL', 'FAULT7_BALL', 'Normal']\n",
        "\n",
        "new_index.reverse()\n",
        "\n",
        "result = result.reindex(new_index)\n",
        "\n",
        "sns.heatmap(result,\n",
        "            cmap='viridis',\n",
        "            )"
      ],
      "execution_count": 51,
      "outputs": [
        {
          "output_type": "execute_result",
          "data": {
            "text/plain": [
              "<matplotlib.axes._subplots.AxesSubplot at 0x7f8fc34718d0>"
            ]
          },
          "metadata": {},
          "execution_count": 51
        },
        {
          "output_type": "display_data",
          "data": {
            "image/png": "[encoded data removed]",
            "text/plain": [
              "<Figure size 432x288 with 2 Axes>"
            ]
          },
          "metadata": {
            "needs_background": "light"
          }
        }
      ]
    }
  ]
}